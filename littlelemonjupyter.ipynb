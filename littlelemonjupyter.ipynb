{
 "cells": [
  {
   "cell_type": "code",
   "execution_count": 4,
   "id": "a9786228-4083-4b10-8386-c4af09a4481e",
   "metadata": {},
   "outputs": [
    {
     "name": "stdout",
     "output_type": "stream",
     "text": [
      "Requirement already satisfied: mysql-connector-python in c:\\users\\lenovo\\appdata\\local\\programs\\python\\python313\\lib\\site-packages (9.3.0)\n"
     ]
    }
   ],
   "source": [
    "!pip install mysql-connector-python"
   ]
  },
  {
   "cell_type": "code",
   "execution_count": 5,
   "id": "615e8a20-910d-4ad4-b890-48acc3be7620",
   "metadata": {},
   "outputs": [],
   "source": [
    "def load_db_config(path='db_config.txt'):\n",
    "    config = {}\n",
    "    with open(path, 'r') as file:\n",
    "        for line in file:\n",
    "            key, val = line.strip().split('=')\n",
    "            config[key] = val\n",
    "    return config\n"
   ]
  },
  {
   "cell_type": "code",
   "execution_count": 9,
   "id": "b15cd642-48d7-4790-9f99-7659062c1e21",
   "metadata": {},
   "outputs": [
    {
     "name": "stdout",
     "output_type": "stream",
     "text": [
      "Connected to MySQL successfully!\n",
      "Connected and ready\n"
     ]
    }
   ],
   "source": [
    "import mysql.connector as connector\n",
    "\n",
    "# Load config from file\n",
    "config = load_db_config()\n",
    "\n",
    "# Establish connection\n",
    "connection = connector.connect(\n",
    "    user=config['user'],\n",
    "    password=config['password'],\n",
    "    host=config['host'],\n",
    "    database=config['database']\n",
    ")\n",
    "\n",
    "# Test connection\n",
    "if connection.is_connected():\n",
    "    print(\"Connected to MySQL successfully!\")\n",
    "\n",
    "cursor=connection.cursor()\n",
    "print(\"Connected and ready\")\n",
    "\n",
    "\n",
    "    "
   ]
  },
  {
   "cell_type": "code",
   "execution_count": 10,
   "id": "785ed695-8321-4ff2-a4f1-ce30b3fe99a0",
   "metadata": {},
   "outputs": [
    {
     "name": "stdout",
     "output_type": "stream",
     "text": [
      "List of tables:\n",
      "- bookings\n",
      "- customers\n",
      "- menu\n",
      "- orderdeliverystatus\n",
      "- orderdetails\n",
      "- orders\n",
      "- ordersview\n",
      "- staff\n"
     ]
    }
   ],
   "source": [
    "# Query to show all tables in the database\n",
    "show_tables_query = \"SHOW TABLES\"\n",
    "cursor.execute(show_tables_query)\n",
    "\n",
    "# Fetch and print results\n",
    "results = cursor.fetchall()\n",
    "print(\"List of tables:\")\n",
    "for table in results:\n",
    "    print(f\"- {table[0]}\")\n"
   ]
  },
  {
   "cell_type": "code",
   "execution_count": 15,
   "id": "efd27f65-060b-4e7d-9c06-881211700b31",
   "metadata": {},
   "outputs": [
    {
     "name": "stdout",
     "output_type": "stream",
     "text": [
      "Customers with orders > $60:\n",
      "Name: Tracey Smith, Contact: +1-854-985-5638x84672, TotalCost: $75.00\n",
      "Name: John Ruiz, Contact: 001-758-864-7843x6204, TotalCost: $125.00\n",
      "Name: Shari Castillo, Contact: 048-460-2283x680, TotalCost: $78.00\n",
      "Name: Jose Bailey, Contact: 089.252.9288x99268, TotalCost: $90.00\n",
      "Name: David Welch DDS, Contact: 2365825950, TotalCost: $120.00\n",
      "Name: Benjamin Pena, Contact: 273-559-4067, TotalCost: $75.00\n",
      "Name: Aimee Bailey, Contact: 906-369-8318, TotalCost: $78.00\n",
      "Name: Jeremy Duarte, Contact: +1-059-048-3709x387, TotalCost: $95.00\n",
      "Name: Traci Sanchez, Contact: +1-319-394-5306x70536, TotalCost: $66.00\n",
      "Name: John Alexander, Contact: 538.359.0041, TotalCost: $89.00\n",
      "Name: Deborah Velasquez, Contact: +1-392-010-1883x9678, TotalCost: $62.00\n",
      "Name: John Walton, Contact: 460.237.8145x597, TotalCost: $99.00\n",
      "Name: Angela Smith, Contact: 5500100996, TotalCost: $110.00\n",
      "Name: Gavin Dillon, Contact: 001-202-234-3097x79517, TotalCost: $87.00\n",
      "Name: Kathy Brown, Contact: 421-375-0418, TotalCost: $150.00\n",
      "Name: Matthew Walker, Contact: 748.389.4900x5289, TotalCost: $85.00\n",
      "Name: Zachary Aguirre, Contact: 001-181-235-1023x8966, TotalCost: $88.00\n",
      "Name: Shari Castillo, Contact: 048-460-2283x680, TotalCost: $120.00\n",
      "Name: Tracey Smith, Contact: +1-854-985-5638x84672, TotalCost: $93.00\n",
      "Name: Jose Bailey, Contact: 089.252.9288x99268, TotalCost: $96.00\n",
      "Name: Kevin Burnett, Contact: (141)607-7144x3667, TotalCost: $130.00\n",
      "Name: David Welch DDS, Contact: 2365825950, TotalCost: $92.00\n",
      "Name: Benjamin Pena, Contact: 273-559-4067, TotalCost: $61.00\n"
     ]
    }
   ],
   "source": [
    "join_query = \"\"\"\n",
    "SELECT \n",
    "    Customers.FullName, \n",
    "    Customers.Phone, \n",
    "    Orders.TotalCost\n",
    "FROM Customers\n",
    "INNER JOIN Bookings ON Customers.CustomerID = Bookings.CustomerID\n",
    "INNER JOIN Orders ON Bookings.BookingID = Orders.BookingID\n",
    "WHERE Orders.TotalCost > 60;\n",
    "\"\"\"\n",
    "cursor.execute(join_query)\n",
    "results = cursor.fetchall()\n",
    "\n",
    "print(\"Customers with orders > $60:\")\n",
    "for row in results:\n",
    "    print(f\"Name: {row[0]}, Contact: {row[1]}, TotalCost: ${row[2]}\")\n",
    "\n"
   ]
  },
  {
   "cell_type": "code",
   "execution_count": null,
   "id": "bb189463-661f-490f-85d6-445bf74806dc",
   "metadata": {},
   "outputs": [],
   "source": []
  },
  {
   "cell_type": "code",
   "execution_count": null,
   "id": "0ded55fb-dc7c-4e91-b65a-b838979bc821",
   "metadata": {},
   "outputs": [],
   "source": []
  },
  {
   "cell_type": "code",
   "execution_count": 2,
   "id": "feafc2fe-6eb5-4389-9cd3-67253ddd2f37",
   "metadata": {},
   "outputs": [],
   "source": []
  }
 ],
 "metadata": {
  "kernelspec": {
   "display_name": "Python 3 (ipykernel)",
   "language": "python",
   "name": "python3"
  },
  "language_info": {
   "codemirror_mode": {
    "name": "ipython",
    "version": 3
   },
   "file_extension": ".py",
   "mimetype": "text/x-python",
   "name": "python",
   "nbconvert_exporter": "python",
   "pygments_lexer": "ipython3",
   "version": "3.13.5"
  }
 },
 "nbformat": 4,
 "nbformat_minor": 5
}
